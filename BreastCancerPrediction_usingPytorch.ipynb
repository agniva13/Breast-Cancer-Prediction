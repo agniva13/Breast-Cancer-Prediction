{
  "nbformat": 4,
  "nbformat_minor": 0,
  "metadata": {
    "colab": {
      "provenance": []
    },
    "kernelspec": {
      "name": "python3",
      "display_name": "Python 3"
    },
    "language_info": {
      "name": "python"
    }
  },
  "cells": [
    {
      "cell_type": "code",
      "execution_count": 393,
      "metadata": {
        "id": "Js88cvQC1sKx"
      },
      "outputs": [],
      "source": [
        "import torch\n",
        "import torch.nn as nn\n",
        "import torch.optim as optim\n",
        "from sklearn.datasets import load_breast_cancer\n",
        "from sklearn.model_selection import train_test_split\n",
        "from sklearn.preprocessing import StandardScaler"
      ]
    },
    {
      "cell_type": "code",
      "source": [
        "# check for CUDA availability\n",
        "device = torch.device(\"cuda\" if torch.cuda.is_available() else \"cpu\")\n",
        "print(f\"Using device: {device}\")"
      ],
      "metadata": {
        "colab": {
          "base_uri": "https://localhost:8080/"
        },
        "id": "T47dLZ_G1uxE",
        "outputId": "02ceccd0-2ead-44fa-c42e-4c66e12e93f9"
      },
      "execution_count": 394,
      "outputs": [
        {
          "output_type": "stream",
          "name": "stdout",
          "text": [
            "Using device: cpu\n"
          ]
        }
      ]
    },
    {
      "cell_type": "code",
      "source": [
        "# load the breast cancer dataset\n",
        "data = load_breast_cancer()\n",
        "X = data.data\n",
        "y = data.target"
      ],
      "metadata": {
        "id": "tqFUt_UL1uz6"
      },
      "execution_count": 395,
      "outputs": []
    },
    {
      "cell_type": "code",
      "source": [
        "print(X)"
      ],
      "metadata": {
        "colab": {
          "base_uri": "https://localhost:8080/"
        },
        "id": "YULbedao1u2k",
        "outputId": "16a7efe2-12b8-449c-cdb9-ac1a2b3b23da"
      },
      "execution_count": 396,
      "outputs": [
        {
          "output_type": "stream",
          "name": "stdout",
          "text": [
            "[[1.799e+01 1.038e+01 1.228e+02 ... 2.654e-01 4.601e-01 1.189e-01]\n",
            " [2.057e+01 1.777e+01 1.329e+02 ... 1.860e-01 2.750e-01 8.902e-02]\n",
            " [1.969e+01 2.125e+01 1.300e+02 ... 2.430e-01 3.613e-01 8.758e-02]\n",
            " ...\n",
            " [1.660e+01 2.808e+01 1.083e+02 ... 1.418e-01 2.218e-01 7.820e-02]\n",
            " [2.060e+01 2.933e+01 1.401e+02 ... 2.650e-01 4.087e-01 1.240e-01]\n",
            " [7.760e+00 2.454e+01 4.792e+01 ... 0.000e+00 2.871e-01 7.039e-02]]\n"
          ]
        }
      ]
    },
    {
      "cell_type": "code",
      "source": [
        "print(y[:5])"
      ],
      "metadata": {
        "colab": {
          "base_uri": "https://localhost:8080/"
        },
        "id": "9k6orY7c1u5G",
        "outputId": "ab7103d4-dfb4-4571-fc53-b5f38d2be41c"
      },
      "execution_count": 397,
      "outputs": [
        {
          "output_type": "stream",
          "name": "stdout",
          "text": [
            "[0 0 0 0 0]\n"
          ]
        }
      ]
    },
    {
      "cell_type": "code",
      "source": [
        "# split the dataset into training and test set\n",
        "X_train, X_test, y_train, y_test = train_test_split(X, y, test_size=0.2, random_state=42)"
      ],
      "metadata": {
        "id": "IyoiA9gR1u8E"
      },
      "execution_count": 398,
      "outputs": []
    },
    {
      "cell_type": "code",
      "source": [
        "print(X.shape)\n",
        "print(X_train.shape)\n",
        "print(X_test.shape)"
      ],
      "metadata": {
        "colab": {
          "base_uri": "https://localhost:8080/"
        },
        "id": "otzFpNi81u-1",
        "outputId": "6023b17a-372f-4660-c815-04f5f9aad382"
      },
      "execution_count": 399,
      "outputs": [
        {
          "output_type": "stream",
          "name": "stdout",
          "text": [
            "(569, 30)\n",
            "(455, 30)\n",
            "(114, 30)\n"
          ]
        }
      ]
    },
    {
      "cell_type": "code",
      "source": [
        "# standardize the data using Standard sclaer\n",
        "scaler = StandardScaler()\n",
        "\n",
        "X_train = scaler.fit_transform(X_train)\n",
        "X_test = scaler.transform(X_test)"
      ],
      "metadata": {
        "id": "DnM1uQuV1vB0"
      },
      "execution_count": 400,
      "outputs": []
    },
    {
      "cell_type": "code",
      "source": [
        "type(X_train)"
      ],
      "metadata": {
        "colab": {
          "base_uri": "https://localhost:8080/"
        },
        "id": "gUycZY711vEi",
        "outputId": "1fdc2b75-ac04-4928-c4c0-230a233ed268"
      },
      "execution_count": 401,
      "outputs": [
        {
          "output_type": "execute_result",
          "data": {
            "text/plain": [
              "numpy.ndarray"
            ]
          },
          "metadata": {},
          "execution_count": 401
        }
      ]
    },
    {
      "cell_type": "code",
      "source": [
        "# convert data to PyTorch tensors and move it to GPU\n",
        "X_train = torch.tensor(X_train, dtype=torch.float32).to(device)\n",
        "y_train = torch.tensor(y_train, dtype=torch.float32).to(device)\n",
        "X_test = torch.tensor(X_test, dtype=torch.float32).to(device)\n",
        "y_test = torch.tensor(y_test, dtype=torch.float32).to(device)"
      ],
      "metadata": {
        "id": "rGJ9e-Bp1vHa"
      },
      "execution_count": 402,
      "outputs": []
    },
    {
      "cell_type": "markdown",
      "source": [
        "\n",
        "Neural Network Architecture"
      ],
      "metadata": {
        "id": "nUUFHRXK2SFC"
      }
    },
    {
      "cell_type": "code",
      "source": [
        "#define the neural network architecture\n",
        "\n",
        "class NeuralNet(nn.Module):\n",
        "\n",
        "  def __init__(self, input_size, hidden_size, output_size):\n",
        "    super(NeuralNet, self).__init__()\n",
        "    self.fc1 = nn.Linear(input_size, hidden_size)\n",
        "    self.relu1 = nn.Sigmoid()\n",
        "    self.fc2 = nn.Linear(hidden_size, output_size)\n",
        "    self.relu2 = nn.Sigmoid()\n",
        "\n",
        "  def forward(self, x):\n",
        "    out = self.fc1(x)\n",
        "    out = self.relu1(out)\n",
        "    out = self.fc2(out)\n",
        "    out = self.relu2(out)\n",
        "    return out\n",
        "# import torch.nn as nn\n",
        "# import torch.nn.functional as F\n",
        "# class NeuralNet(nn.Module):\n",
        "#     def __init__(self, input_size, hidden_size, output_size):\n",
        "#         super(NeuralNet, self).__init__()\n",
        "#         self.conv1 = nn.Conv2d(input_size, hidden_size)\n",
        "#         self.pool = nn.MaxPool2d(2, 2)\n",
        "#         self.conv2 = nn.Conv2d(hidden_size, output_size)\n",
        "#         # self.fc1 = nn.Linear(108800, 120)\n",
        "#         # self.fc2 = nn.Linear(120, 84)\n",
        "#         # self.fc3 = nn.Linear(84, 10)\n",
        "\n",
        "#     def forward(self, x):\n",
        "#         x = self.pool(F.relu(self.conv1(x)))\n",
        "#         x = self.pool(F.relu(self.conv2(x)))\n",
        "#         x = torch.flatten(x, 1) # flatten all dimensions except batch\n",
        "#         # x = F.relu(self.fc1(x))\n",
        "#         # x = F.relu(self.fc2(x))\n",
        "#         # x = self.fc3(x)\n",
        "#         return x"
      ],
      "metadata": {
        "id": "Z7_oGirO1vKC"
      },
      "execution_count": 403,
      "outputs": []
    },
    {
      "cell_type": "code",
      "source": [
        "# define hyperparameters\n",
        "input_size = X_train.shape[1]\n",
        "hidden_size = 256\n",
        "output_size = 1\n",
        "learning_rate = 0.1\n",
        "num_epochs = 50"
      ],
      "metadata": {
        "id": "l6qMj-SQ1vMw"
      },
      "execution_count": 404,
      "outputs": []
    },
    {
      "cell_type": "code",
      "source": [
        "# initialize the neural network and move it the GPU\n",
        "model = NeuralNet(input_size, hidden_size, output_size).to(device)"
      ],
      "metadata": {
        "id": "Gknz6VTi1vPo"
      },
      "execution_count": 405,
      "outputs": []
    },
    {
      "cell_type": "code",
      "source": [
        "# define loss and the optiizer\n",
        "criterion = nn.BCELoss()\n",
        "optimizer = optim.Adam(model.parameters(), lr=learning_rate)"
      ],
      "metadata": {
        "id": "tmQE-rnB1vSW"
      },
      "execution_count": 406,
      "outputs": []
    },
    {
      "cell_type": "markdown",
      "source": [
        "Training the Neural Network"
      ],
      "metadata": {
        "id": "f6IsWrjG2qa1"
      }
    },
    {
      "cell_type": "code",
      "source": [
        "# training the model\n",
        "for epoch in range(num_epochs):\n",
        "  model.train()\n",
        "  optimizer.zero_grad()\n",
        "  outputs = model(X_train)\n",
        "  loss = criterion(outputs, y_train.view(-1,1))\n",
        "  loss.backward()\n",
        "  optimizer.step()\n",
        "\n",
        "  # claculate accuracy\n",
        "  with torch.no_grad():\n",
        "    predicted = outputs.round()\n",
        "    correct = (predicted == y_train.view(-1,1)).float().sum()\n",
        "    accuracy = correct/y_train.size(0)\n",
        "\n",
        "  if (epoch+1) % 5 == 0:\n",
        "    print(f\"Epoch [{epoch+1}/{num_epochs}], Loss : {loss.item():.4f}, Accuracy: {accuracy.item():.4f}%\")"
      ],
      "metadata": {
        "colab": {
          "base_uri": "https://localhost:8080/"
        },
        "id": "46MR2nHK1vVJ",
        "outputId": "c63e6ee2-4f20-4b93-8628-3e6f78e44a12"
      },
      "execution_count": 407,
      "outputs": [
        {
          "output_type": "stream",
          "name": "stdout",
          "text": [
            "Epoch [5/50], Loss : 0.2137, Accuracy: 0.9429%\n",
            "Epoch [10/50], Loss : 0.3381, Accuracy: 0.9780%\n",
            "Epoch [15/50], Loss : 0.6982, Accuracy: 0.9824%\n",
            "Epoch [20/50], Loss : 0.2926, Accuracy: 0.9824%\n",
            "Epoch [25/50], Loss : 0.2655, Accuracy: 0.9824%\n",
            "Epoch [30/50], Loss : 0.2405, Accuracy: 0.9912%\n",
            "Epoch [35/50], Loss : 0.0437, Accuracy: 0.9956%\n",
            "Epoch [40/50], Loss : 0.0340, Accuracy: 0.9978%\n",
            "Epoch [45/50], Loss : 0.0252, Accuracy: 0.9978%\n",
            "Epoch [50/50], Loss : 0.0184, Accuracy: 0.9978%\n"
          ]
        }
      ]
    },
    {
      "cell_type": "markdown",
      "source": [
        "Model Evaluation"
      ],
      "metadata": {
        "id": "eSH-eoZ_2yjO"
      }
    },
    {
      "cell_type": "code",
      "source": [
        "# evaluation on training set\n",
        "model.eval()\n",
        "with torch.no_grad():\n",
        "  outputs = model(X_train)\n",
        "  predicted = outputs.round()\n",
        "  correct = (predicted == y_train.view(-1,1)).float().sum()\n",
        "  accuracy = correct/y_train.size(0)\n",
        "  print(f\"Accuracy on training data: {accuracy.item():.4f}\")"
      ],
      "metadata": {
        "colab": {
          "base_uri": "https://localhost:8080/"
        },
        "id": "bVA_d2iw1vX7",
        "outputId": "6a102102-308c-4b76-c095-cda49ccc2cdd"
      },
      "execution_count": 408,
      "outputs": [
        {
          "output_type": "stream",
          "name": "stdout",
          "text": [
            "Accuracy on training data: 0.9978\n"
          ]
        }
      ]
    },
    {
      "cell_type": "code",
      "source": [
        "# evaluation on test set\n",
        "model.eval()\n",
        "with torch.no_grad():\n",
        "  outputs = model(X_test)\n",
        "  predicted = outputs.round()\n",
        "  correct = (predicted == y_test.view(-1,1)).float().sum()\n",
        "  accuracy = correct/y_test.size(0)\n",
        "  print(f\"Accuracy on test data: {accuracy.item():.4f}\")"
      ],
      "metadata": {
        "colab": {
          "base_uri": "https://localhost:8080/"
        },
        "id": "syljZZKd1vau",
        "outputId": "3cc1ef41-918d-4472-87e5-cc0862e30f5a"
      },
      "execution_count": 409,
      "outputs": [
        {
          "output_type": "stream",
          "name": "stdout",
          "text": [
            "Accuracy on test data: 0.9649\n"
          ]
        }
      ]
    },
    {
      "cell_type": "code",
      "source": [
        "dir(nn)"
      ],
      "metadata": {
        "colab": {
          "base_uri": "https://localhost:8080/"
        },
        "id": "oFZftj0mBGYI",
        "outputId": "6d08fc6f-c739-4d56-ce98-a0955c8776c9"
      },
      "execution_count": 410,
      "outputs": [
        {
          "output_type": "execute_result",
          "data": {
            "text/plain": [
              "['AdaptiveAvgPool1d',\n",
              " 'AdaptiveAvgPool2d',\n",
              " 'AdaptiveAvgPool3d',\n",
              " 'AdaptiveLogSoftmaxWithLoss',\n",
              " 'AdaptiveMaxPool1d',\n",
              " 'AdaptiveMaxPool2d',\n",
              " 'AdaptiveMaxPool3d',\n",
              " 'AlphaDropout',\n",
              " 'AvgPool1d',\n",
              " 'AvgPool2d',\n",
              " 'AvgPool3d',\n",
              " 'BCELoss',\n",
              " 'BCEWithLogitsLoss',\n",
              " 'BatchNorm1d',\n",
              " 'BatchNorm2d',\n",
              " 'BatchNorm3d',\n",
              " 'Bilinear',\n",
              " 'CELU',\n",
              " 'CTCLoss',\n",
              " 'ChannelShuffle',\n",
              " 'CircularPad1d',\n",
              " 'CircularPad2d',\n",
              " 'CircularPad3d',\n",
              " 'ConstantPad1d',\n",
              " 'ConstantPad2d',\n",
              " 'ConstantPad3d',\n",
              " 'Container',\n",
              " 'Conv1d',\n",
              " 'Conv2d',\n",
              " 'Conv3d',\n",
              " 'ConvTranspose1d',\n",
              " 'ConvTranspose2d',\n",
              " 'ConvTranspose3d',\n",
              " 'CosineEmbeddingLoss',\n",
              " 'CosineSimilarity',\n",
              " 'CrossEntropyLoss',\n",
              " 'CrossMapLRN2d',\n",
              " 'DataParallel',\n",
              " 'Dropout',\n",
              " 'Dropout1d',\n",
              " 'Dropout2d',\n",
              " 'Dropout3d',\n",
              " 'ELU',\n",
              " 'Embedding',\n",
              " 'EmbeddingBag',\n",
              " 'FeatureAlphaDropout',\n",
              " 'Flatten',\n",
              " 'Fold',\n",
              " 'FractionalMaxPool2d',\n",
              " 'FractionalMaxPool3d',\n",
              " 'GELU',\n",
              " 'GLU',\n",
              " 'GRU',\n",
              " 'GRUCell',\n",
              " 'GaussianNLLLoss',\n",
              " 'GroupNorm',\n",
              " 'Hardshrink',\n",
              " 'Hardsigmoid',\n",
              " 'Hardswish',\n",
              " 'Hardtanh',\n",
              " 'HingeEmbeddingLoss',\n",
              " 'HuberLoss',\n",
              " 'Identity',\n",
              " 'InstanceNorm1d',\n",
              " 'InstanceNorm2d',\n",
              " 'InstanceNorm3d',\n",
              " 'KLDivLoss',\n",
              " 'L1Loss',\n",
              " 'LPPool1d',\n",
              " 'LPPool2d',\n",
              " 'LPPool3d',\n",
              " 'LSTM',\n",
              " 'LSTMCell',\n",
              " 'LayerNorm',\n",
              " 'LazyBatchNorm1d',\n",
              " 'LazyBatchNorm2d',\n",
              " 'LazyBatchNorm3d',\n",
              " 'LazyConv1d',\n",
              " 'LazyConv2d',\n",
              " 'LazyConv3d',\n",
              " 'LazyConvTranspose1d',\n",
              " 'LazyConvTranspose2d',\n",
              " 'LazyConvTranspose3d',\n",
              " 'LazyInstanceNorm1d',\n",
              " 'LazyInstanceNorm2d',\n",
              " 'LazyInstanceNorm3d',\n",
              " 'LazyLinear',\n",
              " 'LeakyReLU',\n",
              " 'Linear',\n",
              " 'LocalResponseNorm',\n",
              " 'LogSigmoid',\n",
              " 'LogSoftmax',\n",
              " 'MSELoss',\n",
              " 'MarginRankingLoss',\n",
              " 'MaxPool1d',\n",
              " 'MaxPool2d',\n",
              " 'MaxPool3d',\n",
              " 'MaxUnpool1d',\n",
              " 'MaxUnpool2d',\n",
              " 'MaxUnpool3d',\n",
              " 'Mish',\n",
              " 'Module',\n",
              " 'ModuleDict',\n",
              " 'ModuleList',\n",
              " 'MultiLabelMarginLoss',\n",
              " 'MultiLabelSoftMarginLoss',\n",
              " 'MultiMarginLoss',\n",
              " 'MultiheadAttention',\n",
              " 'NLLLoss',\n",
              " 'NLLLoss2d',\n",
              " 'PReLU',\n",
              " 'PairwiseDistance',\n",
              " 'Parameter',\n",
              " 'ParameterDict',\n",
              " 'ParameterList',\n",
              " 'PixelShuffle',\n",
              " 'PixelUnshuffle',\n",
              " 'PoissonNLLLoss',\n",
              " 'RNN',\n",
              " 'RNNBase',\n",
              " 'RNNCell',\n",
              " 'RNNCellBase',\n",
              " 'RReLU',\n",
              " 'ReLU',\n",
              " 'ReLU6',\n",
              " 'ReflectionPad1d',\n",
              " 'ReflectionPad2d',\n",
              " 'ReflectionPad3d',\n",
              " 'ReplicationPad1d',\n",
              " 'ReplicationPad2d',\n",
              " 'ReplicationPad3d',\n",
              " 'SELU',\n",
              " 'Sequential',\n",
              " 'SiLU',\n",
              " 'Sigmoid',\n",
              " 'SmoothL1Loss',\n",
              " 'SoftMarginLoss',\n",
              " 'Softmax',\n",
              " 'Softmax2d',\n",
              " 'Softmin',\n",
              " 'Softplus',\n",
              " 'Softshrink',\n",
              " 'Softsign',\n",
              " 'SyncBatchNorm',\n",
              " 'Tanh',\n",
              " 'Tanhshrink',\n",
              " 'Threshold',\n",
              " 'Transformer',\n",
              " 'TransformerDecoder',\n",
              " 'TransformerDecoderLayer',\n",
              " 'TransformerEncoder',\n",
              " 'TransformerEncoderLayer',\n",
              " 'TripletMarginLoss',\n",
              " 'TripletMarginWithDistanceLoss',\n",
              " 'Unflatten',\n",
              " 'Unfold',\n",
              " 'UninitializedBuffer',\n",
              " 'UninitializedParameter',\n",
              " 'Upsample',\n",
              " 'UpsamplingBilinear2d',\n",
              " 'UpsamplingNearest2d',\n",
              " 'ZeroPad1d',\n",
              " 'ZeroPad2d',\n",
              " 'ZeroPad3d',\n",
              " '__builtins__',\n",
              " '__cached__',\n",
              " '__doc__',\n",
              " '__file__',\n",
              " '__loader__',\n",
              " '__name__',\n",
              " '__package__',\n",
              " '__path__',\n",
              " '__spec__',\n",
              " '_reduction',\n",
              " 'attention',\n",
              " 'common_types',\n",
              " 'factory_kwargs',\n",
              " 'functional',\n",
              " 'grad',\n",
              " 'init',\n",
              " 'intrinsic',\n",
              " 'modules',\n",
              " 'parallel',\n",
              " 'parameter',\n",
              " 'qat',\n",
              " 'quantizable',\n",
              " 'quantized',\n",
              " 'utils']"
            ]
          },
          "metadata": {},
          "execution_count": 410
        }
      ]
    }
  ]
}